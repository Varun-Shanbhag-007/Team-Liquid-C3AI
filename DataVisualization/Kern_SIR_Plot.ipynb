{
 "cells": [
  {
   "cell_type": "markdown",
   "metadata": {},
   "source": [
    "Import reuiqred libraris"
   ]
  },
  {
   "cell_type": "code",
   "execution_count": 1,
   "metadata": {},
   "outputs": [],
   "source": [
    "import pandas as pd\n",
    "from matplotlib import pyplot as plt\n",
    "import numpy as np\n",
    "import c3aidatalake\n",
    "import preparedata"
   ]
  },
  {
   "cell_type": "markdown",
   "metadata": {},
   "source": [
    "Set the Inputs"
   ]
  },
  {
   "cell_type": "code",
   "execution_count": 2,
   "metadata": {},
   "outputs": [],
   "source": [
    "county_selected = 'Kern_California_UnitedStates'\n",
    "start_date_selected = '2020-05-01'\n",
    "end_date_selected = '2020-08-29'"
   ]
  },
  {
   "cell_type": "markdown",
   "metadata": {},
   "source": [
    "Calling get_simulation_data from preparedata.py "
   ]
  },
  {
   "cell_type": "code",
   "execution_count": 3,
   "metadata": {},
   "outputs": [],
   "source": [
    "r_confirmed_cases, r_confirmed_deaths, r_confirmed_recoveries, r_infection_rate, r_mortality_rate, \\\n",
    "        r_recovery_rate, r_county_pop, r_prob_visiting_grocery_store, r_prob_visiting_restaurant, r_prob_visiting_park \\\n",
    "= preparedata.get_simulation_data(county_selected,start_date_selected,end_date_selected)"
   ]
  },
  {
   "cell_type": "code",
   "execution_count": 4,
   "metadata": {},
   "outputs": [],
   "source": [
    "df = pd.DataFrame()\n",
    "df['dates'] = pd.date_range(start=\"2020-05-01\",end=\"2020-08-28\")\n",
    "df['confirmed_cases'] = r_confirmed_cases\n",
    "df['confirmed_deaths'] = r_confirmed_deaths\n",
    "df['confirmed_recoveries'] = r_confirmed_recoveries\n",
    "df['infection_rate'] = r_infection_rate\n",
    "df['mortality_rate'] = r_mortality_rate\n",
    "df['recovery_rate'] = r_recovery_rate\n",
    "df['prob_visiting_grocery_store'] = r_prob_visiting_grocery_store\n",
    "df['prob_visiting_restaurant'] = r_prob_visiting_restaurant\n",
    "df['prob_visiting_park'] = r_prob_visiting_park"
   ]
  },
  {
   "cell_type": "markdown",
   "metadata": {},
   "source": [
    "let's look at the output we got from the get_simulation_data function"
   ]
  },
  {
   "cell_type": "code",
   "execution_count": 5,
   "metadata": {},
   "outputs": [
    {
     "data": {
      "text/html": [
       "<div>\n",
       "<style scoped>\n",
       "    .dataframe tbody tr th:only-of-type {\n",
       "        vertical-align: middle;\n",
       "    }\n",
       "\n",
       "    .dataframe tbody tr th {\n",
       "        vertical-align: top;\n",
       "    }\n",
       "\n",
       "    .dataframe thead th {\n",
       "        text-align: right;\n",
       "    }\n",
       "</style>\n",
       "<table border=\"1\" class=\"dataframe\">\n",
       "  <thead>\n",
       "    <tr style=\"text-align: right;\">\n",
       "      <th></th>\n",
       "      <th>dates</th>\n",
       "      <th>confirmed_cases</th>\n",
       "      <th>confirmed_deaths</th>\n",
       "      <th>confirmed_recoveries</th>\n",
       "      <th>infection_rate</th>\n",
       "      <th>mortality_rate</th>\n",
       "      <th>recovery_rate</th>\n",
       "      <th>prob_visiting_grocery_store</th>\n",
       "      <th>prob_visiting_restaurant</th>\n",
       "      <th>prob_visiting_park</th>\n",
       "    </tr>\n",
       "  </thead>\n",
       "  <tbody>\n",
       "    <tr>\n",
       "      <th>0</th>\n",
       "      <td>2020-05-01</td>\n",
       "      <td>939</td>\n",
       "      <td>8</td>\n",
       "      <td>543</td>\n",
       "      <td>0.0010</td>\n",
       "      <td>0.0085</td>\n",
       "      <td>0.5783</td>\n",
       "      <td>0.095445</td>\n",
       "      <td>0.352444</td>\n",
       "      <td>0.092064</td>\n",
       "    </tr>\n",
       "    <tr>\n",
       "      <th>1</th>\n",
       "      <td>2020-05-02</td>\n",
       "      <td>969</td>\n",
       "      <td>8</td>\n",
       "      <td>579</td>\n",
       "      <td>0.0011</td>\n",
       "      <td>0.0083</td>\n",
       "      <td>0.5975</td>\n",
       "      <td>0.099225</td>\n",
       "      <td>0.347261</td>\n",
       "      <td>0.08631</td>\n",
       "    </tr>\n",
       "    <tr>\n",
       "      <th>2</th>\n",
       "      <td>2020-05-03</td>\n",
       "      <td>1005</td>\n",
       "      <td>8</td>\n",
       "      <td>587</td>\n",
       "      <td>0.0011</td>\n",
       "      <td>0.0080</td>\n",
       "      <td>0.5841</td>\n",
       "      <td>0.095445</td>\n",
       "      <td>0.347261</td>\n",
       "      <td>0.099462</td>\n",
       "    </tr>\n",
       "    <tr>\n",
       "      <th>3</th>\n",
       "      <td>2020-05-04</td>\n",
       "      <td>1016</td>\n",
       "      <td>8</td>\n",
       "      <td>592</td>\n",
       "      <td>0.0011</td>\n",
       "      <td>0.0079</td>\n",
       "      <td>0.5827</td>\n",
       "      <td>0.09639</td>\n",
       "      <td>0.383542</td>\n",
       "      <td>0.096174</td>\n",
       "    </tr>\n",
       "    <tr>\n",
       "      <th>4</th>\n",
       "      <td>2020-05-05</td>\n",
       "      <td>1045</td>\n",
       "      <td>11</td>\n",
       "      <td>620</td>\n",
       "      <td>0.0012</td>\n",
       "      <td>0.0105</td>\n",
       "      <td>0.5933</td>\n",
       "      <td>0.099225</td>\n",
       "      <td>0.378359</td>\n",
       "      <td>0.092886</td>\n",
       "    </tr>\n",
       "    <tr>\n",
       "      <th>5</th>\n",
       "      <td>2020-05-06</td>\n",
       "      <td>1073</td>\n",
       "      <td>11</td>\n",
       "      <td>643</td>\n",
       "      <td>0.0012</td>\n",
       "      <td>0.0103</td>\n",
       "      <td>0.5993</td>\n",
       "      <td>0.0945</td>\n",
       "      <td>0.367993</td>\n",
       "      <td>0.091242</td>\n",
       "    </tr>\n",
       "    <tr>\n",
       "      <th>6</th>\n",
       "      <td>2020-05-07</td>\n",
       "      <td>1133</td>\n",
       "      <td>13</td>\n",
       "      <td>674</td>\n",
       "      <td>0.0013</td>\n",
       "      <td>0.0115</td>\n",
       "      <td>0.5949</td>\n",
       "      <td>0.09828</td>\n",
       "      <td>0.367993</td>\n",
       "      <td>0.089598</td>\n",
       "    </tr>\n",
       "    <tr>\n",
       "      <th>7</th>\n",
       "      <td>2020-05-08</td>\n",
       "      <td>1166</td>\n",
       "      <td>15</td>\n",
       "      <td>705</td>\n",
       "      <td>0.0013</td>\n",
       "      <td>0.0129</td>\n",
       "      <td>0.6046</td>\n",
       "      <td>0.09639</td>\n",
       "      <td>0.342078</td>\n",
       "      <td>0.096996</td>\n",
       "    </tr>\n",
       "    <tr>\n",
       "      <th>8</th>\n",
       "      <td>2020-05-09</td>\n",
       "      <td>1228</td>\n",
       "      <td>15</td>\n",
       "      <td>740</td>\n",
       "      <td>0.0014</td>\n",
       "      <td>0.0122</td>\n",
       "      <td>0.6026</td>\n",
       "      <td>0.108675</td>\n",
       "      <td>0.352444</td>\n",
       "      <td>0.08631</td>\n",
       "    </tr>\n",
       "    <tr>\n",
       "      <th>9</th>\n",
       "      <td>2020-05-10</td>\n",
       "      <td>1254</td>\n",
       "      <td>15</td>\n",
       "      <td>753</td>\n",
       "      <td>0.0014</td>\n",
       "      <td>0.0120</td>\n",
       "      <td>0.6005</td>\n",
       "      <td>0.10962</td>\n",
       "      <td>0.336895</td>\n",
       "      <td>0.09453</td>\n",
       "    </tr>\n",
       "  </tbody>\n",
       "</table>\n",
       "</div>"
      ],
      "text/plain": [
       "       dates  confirmed_cases  confirmed_deaths  confirmed_recoveries  \\\n",
       "0 2020-05-01              939                 8                   543   \n",
       "1 2020-05-02              969                 8                   579   \n",
       "2 2020-05-03             1005                 8                   587   \n",
       "3 2020-05-04             1016                 8                   592   \n",
       "4 2020-05-05             1045                11                   620   \n",
       "5 2020-05-06             1073                11                   643   \n",
       "6 2020-05-07             1133                13                   674   \n",
       "7 2020-05-08             1166                15                   705   \n",
       "8 2020-05-09             1228                15                   740   \n",
       "9 2020-05-10             1254                15                   753   \n",
       "\n",
       "   infection_rate  mortality_rate  recovery_rate prob_visiting_grocery_store  \\\n",
       "0          0.0010          0.0085         0.5783                    0.095445   \n",
       "1          0.0011          0.0083         0.5975                    0.099225   \n",
       "2          0.0011          0.0080         0.5841                    0.095445   \n",
       "3          0.0011          0.0079         0.5827                     0.09639   \n",
       "4          0.0012          0.0105         0.5933                    0.099225   \n",
       "5          0.0012          0.0103         0.5993                      0.0945   \n",
       "6          0.0013          0.0115         0.5949                     0.09828   \n",
       "7          0.0013          0.0129         0.6046                     0.09639   \n",
       "8          0.0014          0.0122         0.6026                    0.108675   \n",
       "9          0.0014          0.0120         0.6005                     0.10962   \n",
       "\n",
       "  prob_visiting_restaurant prob_visiting_park  \n",
       "0                 0.352444           0.092064  \n",
       "1                 0.347261            0.08631  \n",
       "2                 0.347261           0.099462  \n",
       "3                 0.383542           0.096174  \n",
       "4                 0.378359           0.092886  \n",
       "5                 0.367993           0.091242  \n",
       "6                 0.367993           0.089598  \n",
       "7                 0.342078           0.096996  \n",
       "8                 0.352444            0.08631  \n",
       "9                 0.336895            0.09453  "
      ]
     },
     "execution_count": 5,
     "metadata": {},
     "output_type": "execute_result"
    }
   ],
   "source": [
    "df.head(10)"
   ]
  },
  {
   "cell_type": "markdown",
   "metadata": {},
   "source": [
    "## Plotting the SIR Graph"
   ]
  },
  {
   "cell_type": "code",
   "execution_count": 6,
   "metadata": {},
   "outputs": [
    {
     "data": {
      "image/png": "[encoded data removed]",
      "text/plain": [
       "<Figure size 576x432 with 1 Axes>"
      ]
     },
     "metadata": {
      "needs_background": "light"
     },
     "output_type": "display_data"
    }
   ],
   "source": [
    "preparedata.plot_SIR_graph(county = county_selected, start_date = start_date_selected, end_date = end_date_selected, w = 0.07)"
   ]
  }
 ],
 "metadata": {
  "kernelspec": {
   "display_name": "Python 3",
   "language": "python",
   "name": "python3"
  },
  "language_info": {
   "codemirror_mode": {
    "name": "ipython",
    "version": 3
   },
   "file_extension": ".py",
   "mimetype": "text/x-python",
   "name": "python",
   "nbconvert_exporter": "python",
   "pygments_lexer": "ipython3",
   "version": "3.7.4"
  }
 },
 "nbformat": 4,
 "nbformat_minor": 2
}
